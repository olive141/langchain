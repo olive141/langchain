{
  "cells": [
    {
      "cell_type": "code",
      "execution_count": 33,
      "metadata": {
        "colab": {
          "base_uri": "https://localhost:8080/"
        },
        "id": "sdwa2QfAp9pT",
        "outputId": "cfc21d75-c308-45c5-bae2-3b16016a53fb"
      },
      "outputs": [],
      "source": [
        "#!pip install -qU langchain openai"
      ]
    },
    {
      "cell_type": "markdown",
      "metadata": {
        "id": "wnXqS4T_q5m4"
      },
      "source": [
        "We'll start by initializing the `ChatOpenAI` object. For this we'll need an [OpenAI API key](https://platform.openai.com/account/api-keys). Note that there is naturally a small cost to running this notebook due to the paid nature of OpenAI's API access."
      ]
    },
    {
      "cell_type": "code",
      "execution_count": 34,
      "metadata": {
        "colab": {
          "base_uri": "https://localhost:8080/"
        },
        "id": "f3xQHFXErQyv",
        "outputId": "4604b640-9fb7-434c-d185-0dd1fc1c5313"
      },
      "outputs": [],
      "source": [
        "import json\n",
        "import openai\n",
        "from langchain.chat_models import AzureChatOpenAI\n",
        "\n",
        "\n",
        "with open(r'..\\config.json') as config_file:\n",
        "    config_details = json.load(config_file)\n",
        "\n",
        "openai.api_base = config_details['OPENAI_API_BASE']\n",
        "openai.api_key = config_details['OPENAI_API_KEY']  \n",
        "openai.api_type = \"azure\"\n",
        "openai.api_version = \"2022-12-01\" \n",
        "\n",
        "\n",
        "# initialize the models\n",
        "chat = AzureChatOpenAI(openai_api_version=\"2023-05-15\" , deployment_name = \"gpt-35-turbo\", model_name=\"gpt-35-turbo\", openai_api_key=openai.api_key, openai_api_base=openai.api_base, temperature=0)"
      ]
    },
    {
      "attachments": {},
      "cell_type": "markdown",
      "metadata": {
        "id": "_zKBICpJsNqp"
      },
      "source": [
        "Initialize the `ChatOpenAI` object. We'll set `temperature=0` to minimize randomness and make outputs repeatable."
      ]
    },
    {
      "cell_type": "markdown",
      "metadata": {
        "id": "RRZFsmH_t3K5"
      },
      "source": [
        "Chats with the Chat-GPT model `gpt-3.5-turbo` are typically structured like so:\n",
        "\n",
        "```\n",
        "System: You are a helpful assistant.\n",
        "\n",
        "User: Hi AI, how are you today?\n",
        "\n",
        "Assistant: I'm great thank you. How can I help you?\n",
        "\n",
        "User: I'd like to understand string theory.\n",
        "\n",
        "Assistant: \n",
        "```\n",
        "\n",
        "The final `\"Assistant:\"` without a response is what would prompt the model to continue the comversation. In the official OpenAI `ChatCompletion` endpoint these would be passed to the model in a format like:\n",
        "\n",
        "```json\n",
        "[\n",
        "    {\"role\": \"system\", \"content\": \"You are a helpful assistant.\"},\n",
        "    {\"role\": \"user\", \"content\": \"Hi AI, how are you today?\"},\n",
        "    {\"role\": \"assistant\", \"content\": \"I'm great thank you. How can I help you?\"}\n",
        "    {\"role\": \"user\", \"content\": \"I'd like to understand string theory.\"}\n",
        "]\n",
        "```\n",
        "\n",
        "In LangChain there is a slightly different format. We use three *message* objects like so:"
      ]
    },
    {
      "cell_type": "code",
      "execution_count": 35,
      "metadata": {
        "id": "jqFLoaRqtl8z"
      },
      "outputs": [],
      "source": [
        "from langchain.schema import (\n",
        "    SystemMessage,\n",
        "    HumanMessage,\n",
        "    AIMessage\n",
        ")\n",
        "\n",
        "messages = [\n",
        "    SystemMessage(content=\"You are a helpful assistant.\"),\n",
        "    HumanMessage(content=\"Hi AI, how are you today?\"),\n",
        "    AIMessage(content=\"I'm great thank you. How can I help you?\"),\n",
        "    HumanMessage(content=\"I'd like to understand string theory.\")\n",
        "]"
      ]
    },
    {
      "cell_type": "markdown",
      "metadata": {
        "id": "O7AJh2ACytwc"
      },
      "source": [
        "The format is very similar, we're just swapper the role of `\"user\"` for `HumanMessage`, and the role of `\"assistant\"` for `AIMessage`.\n",
        "\n",
        "We generate the next response from the AI by passing these messages to the `ChatOpenAI` object."
      ]
    },
    {
      "cell_type": "code",
      "execution_count": 36,
      "metadata": {
        "colab": {
          "base_uri": "https://localhost:8080/"
        },
        "id": "wc52xfziyhPU",
        "outputId": "6329e634-a6eb-4ce6-e271-6b3d91381ab5"
      },
      "outputs": [
        {
          "data": {
            "text/plain": [
              "AIMessage(content='Sure, I can help you with that. String theory is a theoretical framework in physics that attempts to reconcile quantum mechanics and general relativity. It proposes that the fundamental building blocks of the universe are not point-like particles, but rather tiny, one-dimensional \"strings\" that vibrate at different frequencies. These strings are incredibly small, with a length scale of around 10^-35 meters.\\n\\nThe vibrations of these strings determine the properties of the particles that they form, such as their mass and charge. In this way, string theory provides a way to unify all of the fundamental forces of nature, including gravity, electromagnetism, and the strong and weak nuclear forces.\\n\\nOne of the key features of string theory is that it requires the existence of extra dimensions beyond the three spatial dimensions that we are familiar with. In fact, string theory requires a total of 10 or 11 dimensions, depending on the specific version of the theory.\\n\\nWhile string theory is still a highly speculative idea, it has generated a great deal of interest among physicists and has led to many new insights into the nature of the universe.', additional_kwargs={}, example=False)"
            ]
          },
          "execution_count": 36,
          "metadata": {},
          "output_type": "execute_result"
        }
      ],
      "source": [
        "res = chat(messages)\n",
        "res"
      ]
    },
    {
      "cell_type": "markdown",
      "metadata": {
        "id": "--7J-7Ap3Jd7"
      },
      "source": [
        "In response we get another AI message object. We can print it more clearly like so:"
      ]
    },
    {
      "cell_type": "code",
      "execution_count": 37,
      "metadata": {
        "colab": {
          "base_uri": "https://localhost:8080/"
        },
        "id": "OKMcBaPR3AAv",
        "outputId": "2de7d416-d8b6-4a1d-c3c0-6fc3239a4a9e"
      },
      "outputs": [
        {
          "name": "stdout",
          "output_type": "stream",
          "text": [
            "Sure, I can help you with that. String theory is a theoretical framework in physics that attempts to reconcile quantum mechanics and general relativity. It proposes that the fundamental building blocks of the universe are not point-like particles, but rather tiny, one-dimensional \"strings\" that vibrate at different frequencies. These strings are incredibly small, with a length scale of around 10^-35 meters.\n",
            "\n",
            "The vibrations of these strings determine the properties of the particles that they form, such as their mass and charge. In this way, string theory provides a way to unify all of the fundamental forces of nature, including gravity, electromagnetism, and the strong and weak nuclear forces.\n",
            "\n",
            "One of the key features of string theory is that it requires the existence of extra dimensions beyond the three spatial dimensions that we are familiar with. In fact, string theory requires a total of 10 or 11 dimensions, depending on the specific version of the theory.\n",
            "\n",
            "While string theory is still a highly speculative idea, it has generated a great deal of interest among physicists and has led to many new insights into the nature of the universe.\n"
          ]
        }
      ],
      "source": [
        "print(res.content)"
      ]
    },
    {
      "cell_type": "markdown",
      "metadata": {
        "id": "STl7g3PQ3kg8"
      },
      "source": [
        "Because `res` is just another `AIMessage` object, we can append it to `messages`, add another `HumanMessage`, and generate the next response in the conversation."
      ]
    },
    {
      "cell_type": "code",
      "execution_count": 38,
      "metadata": {
        "colab": {
          "base_uri": "https://localhost:8080/"
        },
        "id": "ESZ6UrBA4PwZ",
        "outputId": "e8155ce2-0fbc-40ae-f46e-a034393c3881"
      },
      "outputs": [
        {
          "name": "stdout",
          "output_type": "stream",
          "text": [
            "Physicists believe that string theory has the potential to produce a unified theory because it provides a way to reconcile the two pillars of modern physics: quantum mechanics and general relativity.\n",
            "\n",
            "Quantum mechanics describes the behavior of particles on very small scales, while general relativity describes the behavior of gravity on large scales. However, these two theories are fundamentally incompatible with each other, and attempts to combine them have been unsuccessful so far.\n",
            "\n",
            "String theory proposes that the fundamental building blocks of the universe are not point-like particles, but rather tiny, one-dimensional \"strings\" that vibrate at different frequencies. These strings are incredibly small, with a length scale of around 10^-35 meters.\n",
            "\n",
            "The vibrations of these strings determine the properties of the particles that they form, such as their mass and charge. In this way, string theory provides a way to unify all of the fundamental forces of nature, including gravity, electromagnetism, and the strong and weak nuclear forces.\n",
            "\n",
            "Furthermore, string theory requires the existence of extra dimensions beyond the three spatial dimensions that we are familiar with. In fact, string theory requires a total of 10 or 11 dimensions, depending on the specific version of the theory. This extra-dimensional framework provides a way to reconcile the seemingly incompatible theories of quantum mechanics and general relativity.\n",
            "\n",
            "While string theory is still a highly speculative idea, it has generated a great deal of interest among physicists and has led to many new insights into the nature of the universe.\n"
          ]
        }
      ],
      "source": [
        "# add latest AI response to messages\n",
        "messages.append(res)\n",
        "\n",
        "# now create a new user prompt\n",
        "prompt = HumanMessage(\n",
        "    content=\"Why do physicists believe it can produce a 'unified theory'?\"\n",
        ")\n",
        "# add to messages\n",
        "messages.append(prompt)\n",
        "\n",
        "# send to chat-gpt\n",
        "res = chat(messages)\n",
        "\n",
        "print(res.content)"
      ]
    }
  ],
  "metadata": {
    "colab": {
      "provenance": []
    },
    "kernelspec": {
      "display_name": "Python 3",
      "name": "python3"
    },
    "language_info": {
      "codemirror_mode": {
        "name": "ipython",
        "version": 3
      },
      "file_extension": ".py",
      "mimetype": "text/x-python",
      "name": "python",
      "nbconvert_exporter": "python",
      "pygments_lexer": "ipython3",
      "version": "3.11.0"
    }
  },
  "nbformat": 4,
  "nbformat_minor": 0
}
